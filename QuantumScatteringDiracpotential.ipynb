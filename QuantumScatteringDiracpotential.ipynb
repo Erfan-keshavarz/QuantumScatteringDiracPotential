{
 "cells": [
  {
   "cell_type": "markdown",
   "id": "9d68c0a1",
   "metadata": {},
   "source": [
    "# One-dimensional quantum scattering from multiple Dirac-delta potentials\n",
    "\n",
    "This project introduces a Python program designed to simulate a one-dimensional quantum system featuring an array of multiple Dirac delta potentials. The primary objective of this code is to explore quantum scattering phenomena within such a setup. Initially, the program generates the wavefunction across the system. Then, by implementing boundary conditions at the potential sites, the code can analytically and numerically determine transmission and reflection amplitudes for various combinations of potential strengths, distances, and the number of potentials. Additionally, through code modification, one can investigate transmission resonance, elucidating energy eigenvalues for particles undergoing perfect transmission. Furthermore, by extending the program, one can explore scattering through a system containing impurities. Finally, we attain the general analytical solution for transmission and reflection probabilities applicable to any number of potentials, and we possess the capability to generate variation plots that effectively explore the behavior of the system under scattering."
   ]
  },
  {
   "cell_type": "code",
   "execution_count": 55,
   "id": "9b0e3c95",
   "metadata": {},
   "outputs": [],
   "source": [
    "# import libraries here; add more as necessary\n",
    "import sympy as smp\n",
    "import numpy as np\n",
    "import scipy as sp\n",
    "import matplotlib.pyplot as plt \n",
    "from sympy import solve , symbols , Eq ,I ,Float , conjugate ,expand,Abs,lambdify,simplify,factor\n",
    "from mpl_toolkits.mplot3d import Axes3D\n",
    "from scipy.interpolate import griddata"
   ]
  },
  {
   "cell_type": "markdown",
   "id": "fa220c58",
   "metadata": {},
   "source": [
    "# Part 1: Wave functions and IVP\n",
    "\n",
    "In this section, a one-dimensional quantum system with multiple Dirac delta potentials is constructed. Users are presented with options to choose between uniform or arbitrary distributions. Initializing the system, involves defining initial values like potential_list and distance_list. The program, designed as a user input interface, offers options such as equal or unequal distances and potentials. The user inputs the value of $k$, and then the $\\xi$ list is computed where $\\xi=\\frac{\\tilde{V_{0}}}{k}$ and $k^{2}=\\frac{2mE}{\\hbar^{2}}$. These options provide flexibility in defining the characteristics of the generated Dirac delta potentials. Once the preferred option is selected and the initial values, such as ξ and distances, are set, the code initiates by providing a list of general wave functions and their corresponding derivatives as functions of y where $y=kx$.This process can be observed in the following code:\n"
   ]
  },
  {
   "cell_type": "code",
   "execution_count": 76,
   "id": "ac881783",
   "metadata": {},
   "outputs": [
    {
     "name": "stdout",
     "output_type": "stream",
     "text": [
      "Enter the number of potentials: 2\n",
      "choose between 'equal potentials' or 'non equal potentials': non equal potentials\n",
      "choose between 'equal distances' or 'non equal distances': non equal distances\n",
      "Enter the value of potential 1: 1\n",
      "Enter the value of potential 2: 2\n",
      "Enter the value of distance 1: 1\n",
      "potential list is as followes:\n",
      "[1.0, 2.0]\n",
      "distance list is as followes:\n",
      "[1.0]\n",
      "enter value of k: 1\n",
      "xi list is as followes:\n",
      "[1.0, 2.0]\n",
      "wave functions in our system is as followes:\n",
      "[r*exp(-1.0*I*y) + exp(1.0*I*y), a2*exp(1.0*I*y) + b2*exp(-1.0*I*y), t*exp(1.0*I*y)]\n",
      "derivatives of wave functions are as followes:\n",
      "[-1.0*I*r*exp(-1.0*I*y) + 1.0*I*exp(1.0*I*y), 1.0*I*a2*exp(1.0*I*y) - 1.0*I*b2*exp(-1.0*I*y), 1.0*I*t*exp(1.0*I*y)]\n"
     ]
    }
   ],
   "source": [
    "# Creating an empty list for storing potential strengths\n",
    "potential_list = []\n",
    "\n",
    "# Creating an empty list for storing distances \n",
    "distance_list=[]\n",
    "\n",
    "#Finding out the number of potentials in the system.\n",
    "num_potential = int(input(\"Enter the number of potentials: \"))\n",
    "\n",
    "# Determining whether the potentials have the same strength or contain impurities.\n",
    "potential_types = input(\"choose between 'equal potentials' or 'non equal potentials': \").lower()\n",
    "\n",
    "# Determining whether the potentials are distributed equally or not.\n",
    "distance_types=input(\"choose between 'equal distances' or 'non equal distances': \").lower()\n",
    "\n",
    "# Conditional statement for storing potential and distance values in empthy lists.\n",
    "if potential_types == 'non equal potentials':\n",
    "    for i in range(num_potential):\n",
    "        value_of_potential = float(input(\"Enter the value of potential {}: \".format(i+1)))\n",
    "        potential_list.append(value_of_potential)\n",
    "elif potential_types == 'equal potentials':\n",
    "    value_of_potential = float(input(\"Enter the value of potential: \"))\n",
    "    potential_list = [value_of_potential] * num_potential\n",
    "else:\n",
    "    print(\"Invalid potential types!\")\n",
    "if distance_types=='non equal distances':\n",
    "    for i in range(num_potential-1):\n",
    "        value_of_distance=float(input(\"Enter the value of distance {}: \".format(i+1)))\n",
    "        distance_list.append(value_of_distance)\n",
    "elif distance_types=='equal distances':\n",
    "    value_of_distance = float(input(\"Enter the value of distance: \"))\n",
    "    distance_list = [value_of_distance] * int((num_potential-1))\n",
    "else:\n",
    "    print(\"Invalid distance types!\")  \n",
    "\n",
    "print(\"potential list is as followes:\")\n",
    "print(potential_list)\n",
    "print(\"distance list is as followes:\")\n",
    "print(distance_list)\n",
    "\n",
    "# Function to divide each list value by a variable and store the results.  \n",
    "def divide_list_elements(lst, divisor):\n",
    "    new_lst = [num / divisor for num in lst]\n",
    "    return new_lst\n",
    "\n",
    "# Implementing value of k for incident particle\n",
    "k = float(input(\"enter value of k: \"))\n",
    "\n",
    "# Finding xi_list by using divide_list_elements function\n",
    "xi_f = divide_list_elements(potential_list, k)\n",
    "print(\"xi list is as followes:\")\n",
    "print(xi_f)\n",
    "\n",
    "# Two lists where generating coefficients of wavefunctions\n",
    "A = [smp.symbols(\"a{}\".format(i)) for i in range(1, num_potential + 2)]\n",
    "B = [smp.symbols(\"b{}\".format(i)) for i in range(1, num_potential + 2)]\n",
    "\n",
    "t, r,y=smp.symbols(\"t r y\")\n",
    "\n",
    "# Where 'r' and 't' represent reflection and transmission amplitudes \n",
    "B[0] = r \n",
    "A[0] = 1\n",
    "B[num_potential] = 0\n",
    "A[num_potential] = t\n",
    "\n",
    "# Two lists where generating wave function and first derivative of wave function  \n",
    "psi_y = [A[i] * smp.exp(1j* y) + B[i] * smp.exp(-1j* y) for i in range(num_potential + 1)]\n",
    "print(\"wave functions in our system is as followes:\")\n",
    "print(psi_y)\n",
    "dpsi_y = []\n",
    "for i in range(num_potential + 1):\n",
    "    derivative = smp.diff(psi_y[i],y)\n",
    "    dpsi_y.append(derivative)\n",
    "print(\"derivatives of wave functions are as followes:\")\n",
    "print(dpsi_y)"
   ]
  },
  {
   "cell_type": "code",
   "execution_count": 77,
   "id": "1b8aa765",
   "metadata": {},
   "outputs": [
    {
     "data": {
      "text/plain": [
       "<function __main__.divide_list_elements(lst, divisor)>"
      ]
     },
     "execution_count": 77,
     "metadata": {},
     "output_type": "execute_result"
    }
   ],
   "source": [
    "divide_list_elements"
   ]
  },
  {
   "cell_type": "markdown",
   "id": "947e7318",
   "metadata": {},
   "source": [
    "The list of stored potentials is as follows:"
   ]
  },
  {
   "cell_type": "code",
   "execution_count": 78,
   "id": "a683df41",
   "metadata": {},
   "outputs": [
    {
     "data": {
      "text/plain": [
       "[1.0, 2.0]"
      ]
     },
     "execution_count": 78,
     "metadata": {},
     "output_type": "execute_result"
    }
   ],
   "source": [
    "potential_list "
   ]
  },
  {
   "cell_type": "markdown",
   "id": "3db60a09",
   "metadata": {},
   "source": [
    "The list of stored distances is as follows:"
   ]
  },
  {
   "cell_type": "code",
   "execution_count": 79,
   "id": "148a8f8f",
   "metadata": {},
   "outputs": [
    {
     "data": {
      "text/plain": [
       "[1.0]"
      ]
     },
     "execution_count": 79,
     "metadata": {},
     "output_type": "execute_result"
    }
   ],
   "source": [
    "distance_list"
   ]
  },
  {
   "cell_type": "markdown",
   "id": "d9c33234",
   "metadata": {},
   "source": [
    "The generated wave function list is as follows:"
   ]
  },
  {
   "cell_type": "code",
   "execution_count": 80,
   "id": "d51c160b",
   "metadata": {},
   "outputs": [
    {
     "data": {
      "text/plain": [
       "[r*exp(-1.0*I*y) + exp(1.0*I*y),\n",
       " a2*exp(1.0*I*y) + b2*exp(-1.0*I*y),\n",
       " t*exp(1.0*I*y)]"
      ]
     },
     "execution_count": 80,
     "metadata": {},
     "output_type": "execute_result"
    }
   ],
   "source": [
    "psi_y"
   ]
  },
  {
   "cell_type": "markdown",
   "id": "5e638804",
   "metadata": {},
   "source": [
    "The list of the generated first derivative wave function is as follows:"
   ]
  },
  {
   "cell_type": "code",
   "execution_count": 81,
   "id": "924cb273",
   "metadata": {},
   "outputs": [
    {
     "data": {
      "text/plain": [
       "[-1.0*I*r*exp(-1.0*I*y) + 1.0*I*exp(1.0*I*y),\n",
       " 1.0*I*a2*exp(1.0*I*y) - 1.0*I*b2*exp(-1.0*I*y),\n",
       " 1.0*I*t*exp(1.0*I*y)]"
      ]
     },
     "execution_count": 81,
     "metadata": {},
     "output_type": "execute_result"
    }
   ],
   "source": [
    "dpsi_y"
   ]
  },
  {
   "cell_type": "markdown",
   "id": "6e1579b1",
   "metadata": {},
   "source": [
    "# Part 2: Boundary Conditions\n",
    "\n",
    "Once the preferred option is selected and the initial values, such as ξ and distances, are set, the code initiates by providing a list of general wave functions and their corresponding derivatives as functions of y. This process can be observed in the following code:"
   ]
  },
  {
   "cell_type": "code",
   "execution_count": 82,
   "id": "671d17f2",
   "metadata": {},
   "outputs": [
    {
     "name": "stdout",
     "output_type": "stream",
     "text": [
      "continuity relation of wave functions at potentials are as follows: \n",
      "[a2*exp(1.0*I*y) + b2*exp(-1.0*I*y) - r*exp(-1.0*I*y) - exp(1.0*I*y), -a2*exp(1.0*I*y) - b2*exp(-1.0*I*y) + t*exp(1.0*I*y)]\n",
      "enter the value of y0: 0\n",
      "[0, d_t1]\n",
      "[a2*exp(1.0*I*y1) + b2*exp(-1.0*I*y1) - r*exp(-1.0*I*y1) - exp(1.0*I*y1), -a2*exp(1.0*I*y2) - b2*exp(-1.0*I*y2) + t*exp(1.0*I*y2)]\n",
      "[a2 + b2 - r - 1, -a2*exp(1.0*I*d_t1) - b2*exp(-1.0*I*d_t1) + t*exp(1.0*I*d_t1)]\n",
      "[1.0*I*a2*exp(1.0*I*y) - 1.0*I*b2*exp(-1.0*I*y) + 1.0*I*r*exp(-1.0*I*y) + xi1*(a2*exp(1.0*I*y) + b2*exp(-1.0*I*y)) - 1.0*I*exp(1.0*I*y), -1.0*I*a2*exp(1.0*I*y) + 1.0*I*b2*exp(-1.0*I*y) + t*xi2*exp(1.0*I*y) + 1.0*I*t*exp(1.0*I*y)]\n",
      "[1.0*I*a2*exp(1.0*I*y1) - 1.0*I*b2*exp(-1.0*I*y1) + 1.0*I*r*exp(-1.0*I*y1) + xi1*(a2*exp(1.0*I*y1) + b2*exp(-1.0*I*y1)) - 1.0*I*exp(1.0*I*y1), -1.0*I*a2*exp(1.0*I*y2) + 1.0*I*b2*exp(-1.0*I*y2) + t*xi2*exp(1.0*I*y2) + 1.0*I*t*exp(1.0*I*y2)]\n",
      "[1.0*I*a2 - 1.0*I*b2 + 1.0*I*r + xi1*(a2 + b2) - 1.0*I, -1.0*I*a2*exp(1.0*I*d_t1) + 1.0*I*b2*exp(-1.0*I*d_t1) + t*xi2*exp(1.0*I*d_t1) + 1.0*I*t*exp(1.0*I*d_t1)]\n"
     ]
    }
   ],
   "source": [
    "# Creating an empty list for storing first boundary condition equations\n",
    "bc_eq1=[]\n",
    "\n",
    "# Applying first boundary condition \n",
    "privious_psi_y=psi_y[0]\n",
    "for element in psi_y[1:]:\n",
    "    difference=element-privious_psi_y\n",
    "    bc_eq1.append(difference)\n",
    "    privious_psi_y=element\n",
    "print(\"continuity relation of wave functions at potentials are as follows: \")\n",
    "print(bc_eq1)\n",
    "n, y0, d_t = smp.symbols('n y0 d_t')\n",
    "y0_n=int(input(\"enter the value of y0: \"))\n",
    "# y=kx, d_tilda=kd\n",
    "list_of_distances=[] \n",
    "D_t = [smp.symbols(\"d_t{}\".format(i)) for i in range(1, num_potential )]\n",
    "if distance_types=='equal distances':\n",
    "    for i in range(num_potential):\n",
    "        y= y0 + n*d_t\n",
    "        result= y.subs([(y0, y0_n),(n, i)])  \n",
    "        list_of_distances.append(result)\n",
    "elif distance_types=='non equal distances':\n",
    "    list_of_distances = [y0_n] + [y0_n+ smp.Add(*D_t[:i]) for i in range(1, num_potential)]     \n",
    "print(list_of_distances)\n",
    "\n",
    "# Importing index to y for first boundery conditions in each regions\n",
    "y = smp.symbols('y')\n",
    "bc_eq1\n",
    "n = num_potential\n",
    "y_symbols = smp.symbols('y1:{}'.format(n + 1))\n",
    "bc_eq1_indexed = [eq.subs(y, y_sym) for eq, y_sym in zip(bc_eq1, y_symbols)]\n",
    "print(bc_eq1_indexed ) \n",
    "\n",
    "# Empty list for storing first boundary condition equation withs assigned distances.\n",
    "bc_eq1_n=[]\n",
    "\n",
    "# Conditional statement for separating first boundary condition equations with assigned distances\n",
    "# equal or non-equal distances.\n",
    "for i in range(len(list_of_distances)):\n",
    "    if distance_types=='equal distances': \n",
    "        y_index1 = i + 1 \n",
    "        y_value1 = list_of_distances[i]\n",
    "        bc_eq1_n.append(bc_eq1_indexed[i].subs(f'y{y_index1}', y_value1))\n",
    "\n",
    "    elif distance_types=='non equal distances':\n",
    "        y_index1 = i + 1 \n",
    "        y_value1 = list_of_distances[i]\n",
    "        bc_eq1_n.append(bc_eq1_indexed[i].subs(f'y{y_index1}', y_value1))\n",
    "print(bc_eq1_n)\n",
    "\n",
    "# Empty list for storing second boundary condition equations.\n",
    "bc_eq2 = []\n",
    "\n",
    "# Applying second boundary condition\n",
    "previous_dpsi_y = dpsi_y[0]\n",
    "previous_psi_y2 = psi_y[1]\n",
    "for i in range(1, len(dpsi_y)):\n",
    "    if potential_types == 'equal potentials':\n",
    "        xi=smp.symbols(\"xi\")\n",
    "        current_dpsi_y = dpsi_y[i]\n",
    "        current_psi_y = psi_y[i]\n",
    "        difference = current_dpsi_y - previous_dpsi_y + (xi) * current_psi_y\n",
    "        bc_eq2.append(difference)\n",
    "        previous_dpsi_y = current_dpsi_y\n",
    "        previous_psi_y2 = current_psi_y # Use the second previous value of psi_y\n",
    "    elif potential_types == 'non equal potentials':\n",
    "        xi_list = [smp.symbols(\"xi{}\".format(i)) for i in range(1, num_potential+1)]\n",
    "        xi=smp.symbols(\"xi\")\n",
    "        current_dpsi_y = dpsi_y[i]\n",
    "        current_psi_y = psi_y[i]\n",
    "        difference = current_dpsi_y - previous_dpsi_y + xi_list[i-1] * current_psi_y\n",
    "        bc_eq2.append(difference)\n",
    "        previous_dpsi_y = current_dpsi_y\n",
    "        previous_psi_y2 = current_psi_y\n",
    "print(bc_eq2)\n",
    "\n",
    "# Importing index to y for second boundery conditions in each regions\n",
    "y = smp.symbols('y')\n",
    "bc_eq2\n",
    "n = num_potential\n",
    "y_symbols = smp.symbols('y1:{}'.format(n + 1))\n",
    "bc_eq2_indexed = [eq.subs(y, y_sym) for eq, y_sym in zip(bc_eq2, y_symbols)]\n",
    "print(bc_eq2_indexed )\n",
    "\n",
    "# Empty list for storing second boundary condition equation with assigned distances\n",
    "bc_eq2_n= []\n",
    "\n",
    "# Conditional statement for separating second boundary condition equations with assigned distances\n",
    "# equal or non-equal distances.\n",
    "for i in range(len(list_of_distances)):\n",
    "    if distance_types=='equal distances':\n",
    "        y_index = i + 1 \n",
    "        y_value = list_of_distances[i]\n",
    "        bc_eq2_n.append(bc_eq2_indexed[i].subs(f'y{y_index}', y_value))\n",
    "    elif distance_types=='non equal distances':\n",
    "        y_index = i + 1 \n",
    "        y_value = list_of_distances[i]\n",
    "        bc_eq2_n.append(bc_eq2_indexed[i].subs(f'y{y_index}', y_value))\n",
    "print(bc_eq2_n)"
   ]
  },
  {
   "cell_type": "markdown",
   "id": "a81d4f91",
   "metadata": {},
   "source": [
    "# Part 3: Transmission and Reflection Amplitiude\n",
    "\n",
    "\n",
    "Now that the algebraic boundary conditions are defined and the initial values of ξ and distances are obtained, the next step involves importing these values and constructing a system of equations. Once the system is formed, it can be solved effectively. Upon obtaining solutions for each coefficient in every region and evaluating the reflection and transmission coefficients, the next step is to analyze conservation of the particle. Additionally, coefficients can be assigned to the wave functions to calculate their conjugates as well as the absolute value of the wave functions.\n"
   ]
  },
  {
   "cell_type": "markdown",
   "id": "c9190fbe",
   "metadata": {},
   "source": [
    "The list of the first boundary equation is as follows:\n"
   ]
  },
  {
   "cell_type": "code",
   "execution_count": 83,
   "id": "37717ece",
   "metadata": {},
   "outputs": [
    {
     "data": {
      "text/plain": [
       "[a2*exp(1.0*I*y) + b2*exp(-1.0*I*y) - r*exp(-1.0*I*y) - exp(1.0*I*y),\n",
       " -a2*exp(1.0*I*y) - b2*exp(-1.0*I*y) + t*exp(1.0*I*y)]"
      ]
     },
     "execution_count": 83,
     "metadata": {},
     "output_type": "execute_result"
    }
   ],
   "source": [
    "bc_eq1"
   ]
  },
  {
   "cell_type": "markdown",
   "id": "2240ef1c",
   "metadata": {},
   "source": [
    "The list of the second boundary equation is as follows:"
   ]
  },
  {
   "cell_type": "code",
   "execution_count": 84,
   "id": "0e47c725",
   "metadata": {},
   "outputs": [
    {
     "data": {
      "text/plain": [
       "[1.0*I*a2*exp(1.0*I*y) - 1.0*I*b2*exp(-1.0*I*y) + 1.0*I*r*exp(-1.0*I*y) + xi1*(a2*exp(1.0*I*y) + b2*exp(-1.0*I*y)) - 1.0*I*exp(1.0*I*y),\n",
       " -1.0*I*a2*exp(1.0*I*y) + 1.0*I*b2*exp(-1.0*I*y) + t*xi2*exp(1.0*I*y) + 1.0*I*t*exp(1.0*I*y)]"
      ]
     },
     "execution_count": 84,
     "metadata": {},
     "output_type": "execute_result"
    }
   ],
   "source": [
    "bc_eq2"
   ]
  },
  {
   "cell_type": "code",
   "execution_count": 85,
   "id": "4d3b1497",
   "metadata": {},
   "outputs": [
    {
     "name": "stdout",
     "output_type": "stream",
     "text": [
      "[a2 + b2 - r - 1, -a2*exp(1.0*I) - b2*exp(-1.0*I) + t*exp(1.0*I)]\n",
      "[1.0*a2 + 1.0*I*a2 + 1.0*b2 - 1.0*I*b2 + 1.0*I*r - 1.0*I, -1.0*I*a2*exp(1.0*I*d_t1) + 1.0*I*b2*exp(-1.0*I*d_t1) + 2.0*t*exp(1.0*I*d_t1) + 1.0*I*t*exp(1.0*I*d_t1)]\n",
      "[1.0*a2 + 1.0*I*a2 + 1.0*b2 - 1.0*I*b2 + 1.0*I*r - 1.0*I, -1.0*I*a2*exp(1.0*I) + 1.0*I*b2*exp(-1.0*I) + 1.0*I*t*exp(1.0*I) + 2.0*t*exp(1.0*I)]\n",
      "[Eq(a2 + b2 - r - 1, 0), Eq(-a2*exp(1.0*I) - b2*exp(-1.0*I) + t*exp(1.0*I), 0), Eq(1.0*a2 + 1.0*I*a2 + 1.0*b2 - 1.0*I*b2 + 1.0*I*r - 1.0*I, 0), Eq(-1.0*I*a2*exp(1.0*I) + 1.0*I*b2*exp(-1.0*I) + 1.0*I*t*exp(1.0*I) + 2.0*t*exp(1.0*I), 0)]\n",
      "Assigned Values:\n",
      "a2: 1.13522926291074 + 0.639590164934386*I\n",
      "b2: 0.143951066958028 - 0.910048690755872*I\n",
      "r: 0.279180329868771 - 0.270458525821487*I\n",
      "t: 0.247819548988179 + 0.887409713922565*I\n",
      "a2 value: (1.13522926291074+0.639590164934386j)\n",
      "b2 value: (0.143951066958028-0.910048690755872j)\n",
      "1.00000000000000\n",
      "[exp(1.0*I*y) + (0.279180329868771 - 0.270458525821487*I)*exp(-1.0*I*y), (1.13522926291074 + 0.639590164934386*I)*exp(1.0*I*y) + (0.143951066958028 - 0.910048690755872*I)*exp(-1.0*I*y), (0.247819548988179 + 0.887409713922565*I)*exp(1.0*I*y)]\n",
      "[(0.279180329868771 + 0.270458525821487*I)*exp(1.0*I*y) + exp(-1.0*I*y), (0.143951066958028 + 0.910048690755872*I)*exp(1.0*I*y) + (1.13522926291074 - 0.639590164934386*I)*exp(-1.0*I*y), (0.247819548988179 - 0.887409713922565*I)*exp(-1.0*I*y)]\n",
      "[Abs(0.279180329868771*exp(2.0*I*y) + 0.270458525821487*I*exp(2.0*I*y) + 1.15108947077517 + 0.279180329868771*exp(-2.0*I*y) - 0.270458525821487*I*exp(-2.0*I*y)), Abs(0.418640728580894*exp(2.0*I*y) - 1.12518359107784*I*exp(2.0*I*y) - 2.54673158767449 + 0.418640728580894*exp(-2.0*I*y) + 1.12518359107784*I*exp(-2.0*I*y)), 0.848910529224833]\n"
     ]
    }
   ],
   "source": [
    "# Importing the values of d and xi to create a system of equations from boundary conditions.\n",
    "if distance_types=='non equal distances':\n",
    "    new_list = [expr.subs(zip(D_t, distance_list)) for expr in bc_eq1_n]\n",
    "elif distance_types=='equal distances':\n",
    "    distance_list_sympy = [smp.sympify(element) for element in distance_list]\n",
    "    substitutions = [(d_t, value) for value in distance_list_sympy]\n",
    "    new_list = [expr.subs(substitutions) for expr in bc_eq1_n]\n",
    "print(new_list)\n",
    "\n",
    "if distance_types=='non equal distances' and  potential_types=='non equal potentials':\n",
    "    new_list2 = [expr.subs(zip(xi_list, xi_f)) for expr in bc_eq2_n]\n",
    "    new_list3 =[expr.subs(zip(D_t, distance_list)) for expr in new_list2]    \n",
    "elif distance_types=='equal distances' and  potential_types=='non equal potentials':\n",
    "    distance_list_sympy = [smp.sympify(element) for element in distance_list]\n",
    "    substitutions = [(d_t, value) for value in distance_list_sympy]\n",
    "    new_list2 = [expr.subs(substitutions) for expr in bc_eq2_n]\n",
    "    new_list3 = [expr.subs(zip(xi_list, xi_f)) for expr in new_list2]\n",
    "elif distance_types=='non equal distances' and  potential_types=='equal potentials':\n",
    "    potential_list_sympy = [smp.sympify(element) for element in xi_f]\n",
    "    substitutions = [(xi, value) for value in potential_list_sympy]\n",
    "    new_list2 = [expr.subs(substitutions) for expr in bc_eq2_n]\n",
    "    new_list3 =[expr.subs(zip(D_t, distance_list)) for expr in new_list2]\n",
    "elif distance_types=='equal distances' and  potential_types=='equal potentials':\n",
    "    distance_list_sympy = [smp.sympify(element) for element in distance_list]\n",
    "    substitutions = [(d_t, value) for value in distance_list_sympy]\n",
    "    new_list2 = [expr.subs(substitutions) for expr in bc_eq2_n]\n",
    "    potential_list_sympy = [smp.sympify(element) for element in xi_f]\n",
    "    substitutions = [(xi, value) for value in potential_list_sympy]\n",
    "    new_list3 = [expr.subs(substitutions) for expr in new_list2]\n",
    "print(new_list2)\n",
    "print(new_list3)    \n",
    "system_of_equations = [Eq(eq, 0) for eq in (new_list + new_list3)]\n",
    "print(system_of_equations)\n",
    "symbols_list = list(set().union(*[eq.free_symbols for eq in system_of_equations]))\n",
    "\n",
    "# Solve the system of equations\n",
    "solution = solve(system_of_equations, symbols_list)\n",
    "symbol_values = {symbol: value for symbol, value in solution.items()}\n",
    "\n",
    "# Print the assigned values\n",
    "print(\"Assigned Values:\")\n",
    "for symbol, value in symbol_values.items():\n",
    "    print(f\"{symbol}: {value}\")\n",
    "functions = {}\n",
    "for symbol, value in symbol_values.items():\n",
    "    func = smp.lambdify([], value)\n",
    "    functions[symbol] = func\n",
    "r_value = functions[r]()\n",
    "t_value=functions[t]()\n",
    "ai=[]  \n",
    "bi=[]\n",
    "for i in range(2, num_potential+1):\n",
    "    a_value = functions[A[i-1]]()\n",
    "    ai.append(a_value)\n",
    "    b_value = functions[B[i-1]]()\n",
    "    bi.append(b_value)\n",
    "    print(f\"a{i} value: {a_value}\")\n",
    "    print(f\"b{i} value: {b_value}\")\n",
    "    \n",
    "# The conservation of the particle implies below condition\n",
    "probability_invariance=Abs(t_value)**2+Abs(r_value)**2\n",
    "print(probability_invariance)  \n",
    "\n",
    "# Wave functions at each regions with assigned coefficients\n",
    "substituted_psi_y = []\n",
    "for expr in psi_y:\n",
    "    substituted_expr = expr.subs({'r': r_value, 't': t_value})\n",
    "    for i in range(0,num_potential-1):\n",
    "        substituted_expr = substituted_expr.subs({A[i+1]: ai[i],B[i+1]: bi[i]})\n",
    "    substituted_psi_y.append(substituted_expr)\n",
    "print(substituted_psi_y)\n",
    "\n",
    "# Finding the conjugate of wave function \n",
    "conjugate_psi_y1 = [conjugate(expr) for expr in substituted_psi_y]\n",
    "conjugate_psi_y = [expr.subs(conjugate(y), y) for expr in conjugate_psi_y1]\n",
    "print(conjugate_psi_y)\n",
    "\n",
    "# Finding absolute value of wave function square \n",
    "psi_y_square = [expand(expr1 * expr2) for expr1, expr2 in zip(substituted_psi_y, conjugate_psi_y)]\n",
    "abs_psi_y_square = [Abs(expr).rewrite(Abs) for expr in psi_y_square]\n",
    "print(abs_psi_y_square)"
   ]
  },
  {
   "cell_type": "markdown",
   "id": "c02c0798",
   "metadata": {},
   "source": [
    "The numerical values for the regional wave functions are as follows:"
   ]
  },
  {
   "cell_type": "code",
   "execution_count": 86,
   "id": "1388b030",
   "metadata": {},
   "outputs": [
    {
     "data": {
      "text/plain": [
       "[exp(1.0*I*y) + (0.279180329868771 - 0.270458525821487*I)*exp(-1.0*I*y),\n",
       " (1.13522926291074 + 0.639590164934386*I)*exp(1.0*I*y) + (0.143951066958028 - 0.910048690755872*I)*exp(-1.0*I*y),\n",
       " (0.247819548988179 + 0.887409713922565*I)*exp(1.0*I*y)]"
      ]
     },
     "execution_count": 86,
     "metadata": {},
     "output_type": "execute_result"
    }
   ],
   "source": [
    "substituted_psi_y"
   ]
  },
  {
   "cell_type": "markdown",
   "id": "190a32f0",
   "metadata": {},
   "source": [
    "The conjugate of the numerical regional wave functions are as follows:"
   ]
  },
  {
   "cell_type": "code",
   "execution_count": 87,
   "id": "b7e4a70f",
   "metadata": {},
   "outputs": [
    {
     "data": {
      "text/plain": [
       "[(0.279180329868771 + 0.270458525821487*I)*exp(1.0*I*y) + exp(-1.0*I*y),\n",
       " (0.143951066958028 + 0.910048690755872*I)*exp(1.0*I*y) + (1.13522926291074 - 0.639590164934386*I)*exp(-1.0*I*y),\n",
       " (0.247819548988179 - 0.887409713922565*I)*exp(-1.0*I*y)]"
      ]
     },
     "execution_count": 87,
     "metadata": {},
     "output_type": "execute_result"
    }
   ],
   "source": [
    "conjugate_psi_y"
   ]
  },
  {
   "cell_type": "markdown",
   "id": "e17496df",
   "metadata": {},
   "source": [
    "The numerical values for the coefficients of the regional wave function are as follows: "
   ]
  },
  {
   "cell_type": "code",
   "execution_count": 88,
   "id": "d43347d1",
   "metadata": {},
   "outputs": [
    {
     "data": {
      "text/plain": [
       "{a2: 1.13522926291074 + 0.639590164934386*I,\n",
       " b2: 0.143951066958028 - 0.910048690755872*I,\n",
       " r: 0.279180329868771 - 0.270458525821487*I,\n",
       " t: 0.247819548988179 + 0.887409713922565*I}"
      ]
     },
     "execution_count": 88,
     "metadata": {},
     "output_type": "execute_result"
    }
   ],
   "source": [
    "solution"
   ]
  },
  {
   "cell_type": "markdown",
   "id": "4abdb989",
   "metadata": {},
   "source": [
    "# Part 4: Graphical Representation and Transmission Resonance \n",
    "\n",
    "In this section, a well-defined structure for scattering within a user-designed system is introduced. By incorporating the coefficient values into the wave function, the section proceeds to divide the code into three distinct components, each addressing different scenarios: whether the distances and potentials are uniformly distributed with equal strength or the system contains impurities or neither the system is uniformly distributed nor has equal strength. By defining a\n",
    "range for each distinct category, the code will plot the wave functions and their absolute values concerning the regional\n",
    "distances between each potential site. by analytically solving the system of equations governing boundary conditions, solutions for the transmission and reflection coefficients for any number of potential sites can be obtained. This enables the creation of graphical representations based on transmission and reflection probabilities with respect to their distances and energy. Additionally, the exact eigenvalue for the energy of the particle required to achieve perfect transmission will be obtained."
   ]
  },
  {
   "cell_type": "markdown",
   "id": "722f965a",
   "metadata": {},
   "source": [
    "# Part 4.1: Equal distances and Equal potentials\n",
    "\n",
    "Initially, the process begins by inserting the values of coefficients into each regional wave function. Then, a range is defined for the scattering phenomena, encompassing potentials at user-defined distances. The code proceeds to plot the wave functions and the absolute value of the wave function squared during scattering phenomena. As the code progresses, the initial step involves solving the system of equations analytically to obtain the transmission and reflection coefficients, with respect to $d_t$ and $\\xi$. Subsequently, the scattering behavior of particles is visualized by plotting the transmission and reflection probabilities."
   ]
  },
  {
   "cell_type": "code",
   "execution_count": 89,
   "id": "d1e8dd75",
   "metadata": {},
   "outputs": [],
   "source": [
    "# Graph of psi_y and psi_y absolute value square \n",
    "# Equal potentials and Equal distances case \n",
    "if potential_types == 'equal potentials'and distance_types == 'equal distances':\n",
    "    lambdified_psi_y_functions = [lambdify(y, func) for func in substituted_psi_y]\n",
    "    l = num_potential-1 \n",
    "    \n",
    "    # Initialize an empty list to store the ranges\n",
    "    range_of_graph = [] \n",
    "    \n",
    "    # Starting point  \n",
    "    start = y0_n - (10 * value_of_distance)\n",
    "    \n",
    "    # End point\n",
    "    end = y0_n\n",
    "    \n",
    "    # Add the first range\n",
    "    range_of_graph.append((start, end))\n",
    "    \n",
    "    # Fixing the range between start and end range\n",
    "    for i in range(l):\n",
    "        start = y0_n + (i * value_of_distance)\n",
    "        end = y0_n + ((i+1) * value_of_distance)\n",
    "        range_of_graph.append((start, end))\n",
    "        \n",
    "    # Add the last range\n",
    "    end = y0_n + ((l + 10) * value_of_distance)\n",
    "    range_of_graph.append((y0_n + (l * value_of_distance), end))  \n",
    "    print(range_of_graph)\n",
    "    plt.figure(1)\n",
    "    \n",
    "    # Plotting wave function with respect to distances  \n",
    "    for i, func in enumerate(lambdified_psi_y_functions):\n",
    "        y_vals = np.linspace(range_of_graph[i][0], range_of_graph[i][1], 1000)\n",
    "        f_vals = np.real(func(y_vals))\n",
    "        plt.plot(y_vals, f_vals, label=str(substituted_psi_y [i]))\n",
    "    plt.xlabel('y')\n",
    "    plt.ylabel(r'Re[$\\Psi(y)$]')\n",
    "    plt.title('Plot of wave function')\n",
    "    \n",
    "    # Plotting Wave Functions Absolute Value Square \n",
    "    lambdified_abs_psi_y_square = [lambdify(y, func) for func in abs_psi_y_square]\n",
    "    m = num_potential - 1\n",
    "    range_of_graph1 = []\n",
    "    start1 = y0_n - (10 * value_of_distance)\n",
    "    end1 = y0_n\n",
    "    range_of_graph1.append((start1, end1))\n",
    "    for i in range(m):\n",
    "        start1 = y0_n + (i * value_of_distance)\n",
    "        end1 = y0_n + ((i + 1) * value_of_distance)\n",
    "        range_of_graph1.append((start1, end1))\n",
    "    end1 = y0_n + ((m + 10) * value_of_distance)\n",
    "    range_of_graph1.append((y0_n + (m * value_of_distance), end1))\n",
    "    plt.figure(2)\n",
    "    for i, func in enumerate(lambdified_abs_psi_y_square):\n",
    "        y_vals1 = np.linspace(range_of_graph1[i][0], range_of_graph1[i][1], 1000)\n",
    "        f_vals1 = np.vectorize(func)(y_vals1)\n",
    "        plt.plot(y_vals1, np.real(f_vals1), label=str(abs_psi_y_square[i]))\n",
    "    plt.xlabel('y')\n",
    "    plt.ylabel(r'$\\mid \\Psi(y) \\mid^2$')\n",
    "    plt.title('plot of the Wave Functions Absolute Value Square')\n",
    "    plt.grid(True)\n",
    "    plt.show()\n",
    "    \n",
    "    \n",
    "    # Define the system of equations for first and second boundary condition \n",
    "    system_of_equations_algebric = [Eq(eq, 0) for eq in (bc_eq1_n + bc_eq2_n)]\n",
    "    symbols_list_algebric = list(set().union(*[eq.free_symbols for eq in system_of_equations_algebric]))\n",
    "\n",
    "    # Solve the system of equations\n",
    "    solution_algebric = smp.solve(system_of_equations_algebric, symbols_list)\n",
    "    symbol_values_algebric = {symbol: value for symbol, value in solution_algebric.items()}\n",
    "    print(symbol_values_algebric)\n",
    "    r_value_algebric = symbol_values_algebric[r]\n",
    "    t_value_algebric = symbol_values_algebric[t]\n",
    "\n",
    "    \n",
    "    r_func = lambdify((d_t, xi), r_value_algebric, modules='numpy')\n",
    "    t_func = lambdify((d_t, xi), t_value_algebric, modules='numpy')\n",
    "    \n",
    "\n",
    "    # Define the range of xi and d_t \n",
    "    xi_values = np.linspace(0, xi_f, 1000)\n",
    "    d_t_values = np.linspace(0, distance_list[0], 1000)\n",
    "\n",
    "    # Create a meshgrid of xi and d_t \n",
    "    xi_mesh, d_t_mesh = np.meshgrid(xi_values, d_t_values)\n",
    "\n",
    "    # Calculate the absolute square of r and t for any combination of xi and d_t\n",
    "    abs_r_product = np.abs(r_func(d_t_mesh, xi_mesh) * np.conj(r_func(d_t_mesh, xi_mesh)))\n",
    "    abs_t_square = np.abs(t_func(d_t_mesh, xi_mesh) * np.conj(t_func(d_t_mesh, xi_mesh)))\n",
    "\n",
    "    # Create a 3D plot\n",
    "    fig = plt.figure(figsize=(10,8))\n",
    "    ax = fig.add_subplot(111, projection='3d')\n",
    "    ax.plot_surface(xi_mesh, d_t_mesh, abs_r_product, cmap='viridis')\n",
    "    ax.plot_surface(xi_mesh, d_t_mesh, abs_t_square, cmap='magma')\n",
    "    ax.set_xlabel(r'$\\xi=\\frac{\\tilde{V_{0}}}{k}$')\n",
    "    ax.set_ylabel(r'$d_t=kd$')\n",
    "    ax.set_zlabel('Magnitude')\n",
    "    ax.set_title(r'plot of $\\mid r\\mid^{2}$ and $\\mid t\\mid^{2}$ ')\n",
    "    xi=xi_f[0]\n",
    "    d_t_values1=np.linspace(0,10,1000)\n",
    "    \n",
    "    # Calculate the absolute square of r and t for the fixed xi\n",
    "    abs_r_product_xi = np.abs(r_func(d_t_values1, xi) * np.conj(r_func(d_t_values1, xi)))\n",
    "    abs_t_square_xi = np.abs(t_func(d_t_values1, xi) * np.conj(t_func(d_t_values1, xi)))\n",
    "    ax.xaxis.labelpad=0\n",
    "    ax.yaxis.labelpad=0\n",
    "    ax.zaxis.labelpad=0\n",
    "    \n",
    "    # Plot the 2D graph for the fixed xi\n",
    "    fig, ax = plt.subplots(figsize=(8, 6))\n",
    "    ax.plot(d_t_values1, abs_r_product_xi, label=r'$\\mid r\\mid^{2}$')\n",
    "    ax.plot(d_t_values1, abs_t_square_xi, label=r'$\\mid t\\mid^{2}$')\n",
    "    ax.set_xlabel(r'$d_t=kd$')\n",
    "    ax.set_ylabel('Magnitude')\n",
    "    ax.set_title(r'plot of $\\mid r\\mid^{2}$ and $\\mid t\\mid^{2}$ for'+\" \"+\"xi = {}\".format(xi))\n",
    "    ax.legend()\n",
    "    \n",
    "    xi=np.linspace(-10,10,1000)\n",
    "    d_t_values1=distance_list[0]\n",
    "    \n",
    "    # Calculate the absolute square of r and t for the fixed distance\n",
    "    abs_r_product_xi = np.abs(r_func(d_t_values1, xi) * np.conj(r_func(d_t_values1, xi)))\n",
    "    abs_t_square_xi = np.abs(t_func(d_t_values1, xi) * np.conj(t_func(d_t_values1, xi)))\n",
    "\n",
    "    # Plot the 2D graph for the fixed distance\n",
    "    fig, ax = plt.subplots(figsize=(8, 6))\n",
    "    ax.plot(xi, abs_r_product_xi, label=r'$\\mid r\\mid^{2}$')\n",
    "    ax.plot(xi, abs_t_square_xi, label=r'$\\mid t\\mid^{2}$')\n",
    "    ax.set_xlabel(r'$\\xi=\\frac{\\tilde{V_{0}}}{k}$')\n",
    "    ax.set_ylabel('Magnitude')\n",
    "    ax.set_title(r'plot of $\\mid r\\mid^{2}$ and $\\mid t\\mid^{2}$ for'+\" \"+\"d_t = {}\".format(distance_list[0]))\n",
    "    ax.legend()\n",
    "\n",
    "    plt.show()"
   ]
  },
  {
   "cell_type": "markdown",
   "id": "2077e5d2",
   "metadata": {},
   "source": [
    "# Part 4.2: Equal distances and Non_Equal potentials\n",
    "\n",
    "Through the code modification as shown below, one can introduce impurities in the potential strengths, enabling the exploration of a system. By considering these impurities, there is an opportunity to plot the wave functions, their absolute values squared, as well as the transmission and reflection probabilities. This approach allows for a comprehensive analysis of the system’s behavior under the existence of impurities. The code modification is identical to the previous version; however, it's important to take caution when defining the range of distances, as follows:"
   ]
  },
  {
   "cell_type": "code",
   "execution_count": 90,
   "id": "1b8d1b2e",
   "metadata": {},
   "outputs": [],
   "source": [
    "# Graph of psi_y and psi_y absolute value square \n",
    "# Non equal potentials and Equal distances case \n",
    "if potential_types == 'non equal potentials'and distance_types == 'equal distances':\n",
    "    lambdified_psi_y_functions = [lambdify(y, func) for func in substituted_psi_y]\n",
    "    l = num_potential-1  \n",
    "\n",
    "    # Initialize an empty list to store the ranges\n",
    "    range_of_graph = [] \n",
    "\n",
    "     # Add the first range\n",
    "    start = y0_n - (10 * value_of_distance)\n",
    "    end = y0_n\n",
    "    range_of_graph.append((start, end)) \n",
    "\n",
    "    # Fixing the range between start and end range\n",
    "    for i in range(l):\n",
    "        start = y0_n + (i * value_of_distance)\n",
    "        end = y0_n + ((i+1) * value_of_distance)\n",
    "        range_of_graph.append((start, end))\n",
    "\n",
    "    # Add the last range    \n",
    "    end = y0_n + ((l + 10) * value_of_distance)\n",
    "    range_of_graph.append((y0_n + (l * value_of_distance), end))  \n",
    "    print(range_of_graph)\n",
    "    plt.figure(1)\n",
    "    \n",
    "    # Plotting wave function with respect to distances \n",
    "    for i, func in enumerate(lambdified_psi_y_functions):\n",
    "        y_vals = np.linspace(range_of_graph[i][0], range_of_graph[i][1], 1000)\n",
    "        f_vals = np.real(func(y_vals))\n",
    "        plt.plot(y_vals, f_vals, label=str(substituted_psi_y [i]))\n",
    "    plt.xlabel('y')\n",
    "    plt.ylabel(r'Re[$\\Psi(y)$]')\n",
    "    plt.title('Plot of wave function')\n",
    "    \n",
    "    # Plotting Wave Functions Absolute Value Square \n",
    "    lambdified_abs_psi_y_square = [lambdify(y, func) for func in abs_psi_y_square]\n",
    "    m = num_potential - 1\n",
    "    range_of_graph1 = []\n",
    "    start1 = y0_n - (10 * value_of_distance)\n",
    "    end1 = y0_n\n",
    "    range_of_graph1.append((start1, end1))\n",
    "    for i in range(m):\n",
    "        start1 = y0_n + (i * value_of_distance)\n",
    "        end1 = y0_n + ((i + 1) * value_of_distance)\n",
    "        range_of_graph1.append((start1, end1))\n",
    "    end1 = y0_n + ((m + 10) * value_of_distance)\n",
    "    range_of_graph1.append((y0_n + (m * value_of_distance), end1))\n",
    "    plt.figure(2)\n",
    "    for i, func in enumerate(lambdified_abs_psi_y_square):\n",
    "        y_vals1 = np.linspace(range_of_graph1[i][0], range_of_graph1[i][1], 1000)\n",
    "        f_vals1 = np.vectorize(func)(y_vals1)\n",
    "        plt.plot(y_vals1, np.real(f_vals1), label=str(abs_psi_y_square[i]))\n",
    "    plt.xlabel('y')\n",
    "    plt.ylabel(r'$\\mid \\Psi(y) \\mid^2$')\n",
    "    plt.title('plot of the Wave Functions Absolute Value Square')\n",
    "    plt.grid(True)\n",
    "    plt.show()\n",
    "    \n",
    "    # Define the system of equations for first and second boundary condition \n",
    "    system_of_equations_algebric = [Eq(eq, 0) for eq in (bc_eq1_n + bc_eq2_n)]\n",
    "    system_of_equations_algebric1 = [eq.subs({symbol: value for symbol, value in zip(xi_list, xi_f)}) for eq in system_of_equations_algebric]\n",
    "    symbols_list_algebric = list(set().union(*[eq.free_symbols for eq in system_of_equations_algebric1]))\n",
    "\n",
    "    # Solve the system of equations\n",
    "    solution_algebric = smp.solve(system_of_equations_algebric1, symbols_list)\n",
    "    symbol_values_algebric = {symbol: value for symbol, value in solution_algebric.items()}\n",
    "    print(symbol_values_algebric)\n",
    "    r_value_algebric = symbol_values_algebric[r]\n",
    "    t_value_algebric = symbol_values_algebric[t]\n",
    "    r_func = lambdify((d_t), r_value_algebric, modules='numpy')\n",
    "    t_func = lambdify((d_t), t_value_algebric, modules='numpy')\n",
    "    d_t_values2=np.linspace(0,10,1000)\n",
    "    \n",
    "    # Calculate the absolute value square of r and t for the fixed xi\n",
    "    abs_r_product_xi_list = np.abs(r_func(d_t_values2) * np.conj(r_func(d_t_values2)))\n",
    "    abs_t_square_xi_list = np.abs(t_func(d_t_values2) * np.conj(t_func(d_t_values2)))\n",
    "\n",
    "    # Plot the 2D graph for the fixed xi\n",
    "    fig, ax = plt.subplots(figsize=(8, 6))\n",
    "    ax.plot(d_t_values2, abs_r_product_xi_list, label=r'$\\mid r\\mid^{2}$')\n",
    "    ax.plot(d_t_values2, abs_t_square_xi_list, label=r'$\\mid t\\mid^{2}$')\n",
    "    ax.set_xlabel(r'$d_t$')\n",
    "    ax.set_ylabel('Magnitude')\n",
    "    ax.set_title(r'plot of $\\mid r\\mid^{2}$ and $\\mid t\\mid^{2}$ for'+\" \"+\"xi = {}\".format(xi_f))\n",
    "    ax.legend()\n",
    "\n",
    "    plt.show() "
   ]
  },
  {
   "cell_type": "markdown",
   "id": "a1acc432",
   "metadata": {},
   "source": [
    "# Part 4.3: Non-Equal distances and Non-Equal potentials\n",
    "\n",
    "In this section, the generality of the system is extended by further modifying the code. Scenarios where distances and potentials are not constrained to be equal are considered. By relaxing these constraints, a more diverse range of possibilities within the system is explored. Despite these variations, it is still possible to calculate the transmission and reflection coefficients, enabling a comprehensive understanding of the system’s behavior under more general conditions."
   ]
  },
  {
   "cell_type": "code",
   "execution_count": 91,
   "id": "2fafb937",
   "metadata": {},
   "outputs": [
    {
     "name": "stdout",
     "output_type": "stream",
     "text": [
      "{a2: (-2.0*I*xi2 + 4.0)/(xi1*xi2*exp(2.0*I*d_t1) - xi1*xi2 - 2.0*I*xi1 - 2.0*I*xi2 + 4.0), b2: 2.0*I*xi2*exp(2.0*I*d_t1)/(xi1*xi2*exp(2.0*I*d_t1) - xi1*xi2 - 2.0*I*xi1 - 2.0*I*xi2 + 4.0), r: (-xi1*xi2*exp(2.0*I*d_t1) + xi1*xi2 + 2.0*I*xi1 + 2.0*I*xi2*exp(2.0*I*d_t1))/(xi1*xi2*exp(2.0*I*d_t1) - xi1*xi2 - 2.0*I*xi1 - 2.0*I*xi2 + 4.0), t: 4.0/(xi1*xi2*exp(2.0*I*d_t1) - xi1*xi2 - 2.0*I*xi1 - 2.0*I*xi2 + 4.0)}\n"
     ]
    }
   ],
   "source": [
    "if potential_types == 'non equal potentials'and distance_types == 'non equal distances':\n",
    "    \n",
    "    # Define the equations\n",
    "    system_of_equations_algebric = [Eq(eq, 0) for eq in (bc_eq1_n + bc_eq2_n)]\n",
    "    symbols_list_algebric = list(set().union(*[eq.free_symbols for eq in system_of_equations_algebric]))\n",
    "\n",
    "    # Solve the system of equations\n",
    "    solution_algebric = smp.solve(system_of_equations_algebric, symbols_list)\n",
    "    symbol_values_algebric = {symbol: value for symbol, value in solution_algebric.items()}\n",
    "\n",
    "    print(symbol_values_algebric)\n",
    "    r_value_algebric = symbol_values_algebric[r]\n",
    "    t_value_algebric = symbol_values_algebric[t]"
   ]
  },
  {
   "cell_type": "markdown",
   "id": "6a31a213",
   "metadata": {},
   "source": [
    "Analytical solution for reflection amplitude is as follows:"
   ]
  },
  {
   "cell_type": "code",
   "execution_count": 92,
   "id": "09f80020",
   "metadata": {},
   "outputs": [
    {
     "data": {
      "text/latex": [
       "$\\displaystyle \\frac{- \\xi_{1} \\xi_{2} e^{2.0 i d_{t1}} + \\xi_{1} \\xi_{2} + 2.0 i \\xi_{1} + 2.0 i \\xi_{2} e^{2.0 i d_{t1}}}{\\xi_{1} \\xi_{2} e^{2.0 i d_{t1}} - \\xi_{1} \\xi_{2} - 2.0 i \\xi_{1} - 2.0 i \\xi_{2} + 4.0}$"
      ],
      "text/plain": [
       "(-xi1*xi2*exp(2.0*I*d_t1) + xi1*xi2 + 2.0*I*xi1 + 2.0*I*xi2*exp(2.0*I*d_t1))/(xi1*xi2*exp(2.0*I*d_t1) - xi1*xi2 - 2.0*I*xi1 - 2.0*I*xi2 + 4.0)"
      ]
     },
     "execution_count": 92,
     "metadata": {},
     "output_type": "execute_result"
    }
   ],
   "source": [
    "r_value_algebric"
   ]
  },
  {
   "cell_type": "markdown",
   "id": "5f446321",
   "metadata": {},
   "source": [
    "Numerical value for reflection probability is as follows:"
   ]
  },
  {
   "cell_type": "code",
   "execution_count": 93,
   "id": "33dd40a1",
   "metadata": {},
   "outputs": [
    {
     "data": {
      "text/plain": [
       "0.15108947077516774"
      ]
     },
     "execution_count": 93,
     "metadata": {},
     "output_type": "execute_result"
    }
   ],
   "source": [
    "abs(r_value)**2"
   ]
  },
  {
   "cell_type": "markdown",
   "id": "eb9f88ff",
   "metadata": {},
   "source": [
    "Analytical solution for transmission amplitude is as follows:"
   ]
  },
  {
   "cell_type": "code",
   "execution_count": 94,
   "id": "48d1157e",
   "metadata": {},
   "outputs": [
    {
     "data": {
      "text/latex": [
       "$\\displaystyle \\frac{4.0}{\\xi_{1} \\xi_{2} e^{2.0 i d_{t1}} - \\xi_{1} \\xi_{2} - 2.0 i \\xi_{1} - 2.0 i \\xi_{2} + 4.0}$"
      ],
      "text/plain": [
       "4.0/(xi1*xi2*exp(2.0*I*d_t1) - xi1*xi2 - 2.0*I*xi1 - 2.0*I*xi2 + 4.0)"
      ]
     },
     "execution_count": 94,
     "metadata": {},
     "output_type": "execute_result"
    }
   ],
   "source": [
    "t_value_algebric"
   ]
  },
  {
   "cell_type": "markdown",
   "id": "b7c5decd",
   "metadata": {},
   "source": [
    "Numerical value for transmission probability is as follows:"
   ]
  },
  {
   "cell_type": "code",
   "execution_count": 95,
   "id": "dc2a3440",
   "metadata": {},
   "outputs": [
    {
     "data": {
      "text/plain": [
       "0.848910529224833"
      ]
     },
     "execution_count": 95,
     "metadata": {},
     "output_type": "execute_result"
    }
   ],
   "source": [
    "abs(t_value)**2"
   ]
  },
  {
   "cell_type": "markdown",
   "id": "e26d805d",
   "metadata": {},
   "source": [
    "# Part 5:Transmission Resonance\n",
    "\n",
    "To pinpoint the exact eigenvalue energy for perfect transmission, one achieves this by setting  r = 0 and then determining the value of ξ with respect to varying distances and energy, as outlined in the code below:"
   ]
  },
  {
   "cell_type": "code",
   "execution_count": 54,
   "id": "c55376eb",
   "metadata": {},
   "outputs": [],
   "source": [
    "#finding enery eigen value of for perfect transmission \n",
    "#equal potentials  and equal distances case \n",
    "if potential_types == 'equal potentials'and distance_types == 'equal distances':\n",
    "    d_t , xi =smp.symbols(\"d_t xi\")\n",
    "    r_value_algebric_eigen=smp.Eq(r_value_algebric,0)\n",
    "    eigenvalue=smp.solve(r_value_algebric_eigen, xi)\n",
    "    eigenvalue.remove(Float(0))\n",
    "    print(eigenvalue)"
   ]
  },
  {
   "cell_type": "markdown",
   "id": "1b61072f",
   "metadata": {},
   "source": [
    "The energy eigenvalues for perfect transmission are as follows:"
   ]
  },
  {
   "cell_type": "code",
   "execution_count": 23,
   "id": "9eb44e37",
   "metadata": {
    "collapsed": true
   },
   "outputs": [
    {
     "data": {
      "text/plain": [
       "[(-2.82842712474619*sqrt(-exp(2.0*I*d_t)) + 2.0*I*exp(2.0*I*d_t) + 2.0*I)/(exp(2.0*I*d_t) - 1.0),\n",
       " (2.82842712474619*sqrt(-exp(2.0*I*d_t)) + 2.0*I*exp(2.0*I*d_t) + 2.0*I)/(exp(2.0*I*d_t) - 1.0),\n",
       " 2.0/tan(d_t)]"
      ]
     },
     "execution_count": 23,
     "metadata": {},
     "output_type": "execute_result"
    }
   ],
   "source": [
    "eigenvalue"
   ]
  }
 ],
 "metadata": {
  "kernelspec": {
   "display_name": "Python 3 (ipykernel)",
   "language": "python",
   "name": "python3"
  },
  "language_info": {
   "codemirror_mode": {
    "name": "ipython",
    "version": 3
   },
   "file_extension": ".py",
   "mimetype": "text/x-python",
   "name": "python",
   "nbconvert_exporter": "python",
   "pygments_lexer": "ipython3",
   "version": "3.10.9"
  }
 },
 "nbformat": 4,
 "nbformat_minor": 5
}
